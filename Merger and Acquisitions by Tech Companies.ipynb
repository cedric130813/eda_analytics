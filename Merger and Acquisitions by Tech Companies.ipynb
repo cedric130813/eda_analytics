{
 "cells": [
  {
   "cell_type": "markdown",
   "id": "ca9099b4",
   "metadata": {},
   "source": [
    "### Merger and Acquisitions by Tech Companies\n",
    "### Source: https://www.kaggle.com/datasets/shivamb/company-acquisitions-7-top-companies"
   ]
  },
  {
   "cell_type": "code",
   "execution_count": 1,
   "id": "4905a325",
   "metadata": {},
   "outputs": [],
   "source": [
    "import pandas as pd"
   ]
  },
  {
   "cell_type": "code",
   "execution_count": 2,
   "id": "d0372968",
   "metadata": {},
   "outputs": [],
   "source": [
    "cy_aq = pd.read_csv(\"acquisitions_update_2021.csv\")"
   ]
  },
  {
   "cell_type": "code",
   "execution_count": 3,
   "id": "23f34524",
   "metadata": {},
   "outputs": [
    {
     "data": {
      "text/html": [
       "<div>\n",
       "<style scoped>\n",
       "    .dataframe tbody tr th:only-of-type {\n",
       "        vertical-align: middle;\n",
       "    }\n",
       "\n",
       "    .dataframe tbody tr th {\n",
       "        vertical-align: top;\n",
       "    }\n",
       "\n",
       "    .dataframe thead th {\n",
       "        text-align: right;\n",
       "    }\n",
       "</style>\n",
       "<table border=\"1\" class=\"dataframe\">\n",
       "  <thead>\n",
       "    <tr style=\"text-align: right;\">\n",
       "      <th></th>\n",
       "      <th>ID</th>\n",
       "      <th>Parent Company</th>\n",
       "      <th>Acquisition Year</th>\n",
       "      <th>Acquisition Month</th>\n",
       "      <th>Acquired Company</th>\n",
       "      <th>Business</th>\n",
       "      <th>Country</th>\n",
       "      <th>Acquisition Price</th>\n",
       "      <th>Category</th>\n",
       "      <th>Derived Products</th>\n",
       "    </tr>\n",
       "  </thead>\n",
       "  <tbody>\n",
       "    <tr>\n",
       "      <th>0</th>\n",
       "      <td>1</td>\n",
       "      <td>Apple</td>\n",
       "      <td>1988</td>\n",
       "      <td>Mar</td>\n",
       "      <td>Network Innovations</td>\n",
       "      <td>Software</td>\n",
       "      <td>-</td>\n",
       "      <td>-</td>\n",
       "      <td>-</td>\n",
       "      <td>-</td>\n",
       "    </tr>\n",
       "    <tr>\n",
       "      <th>1</th>\n",
       "      <td>2</td>\n",
       "      <td>Apple</td>\n",
       "      <td>1988</td>\n",
       "      <td>Jun</td>\n",
       "      <td>Orion Network Systems</td>\n",
       "      <td>Computer Software</td>\n",
       "      <td>-</td>\n",
       "      <td>-</td>\n",
       "      <td>-</td>\n",
       "      <td>-</td>\n",
       "    </tr>\n",
       "    <tr>\n",
       "      <th>2</th>\n",
       "      <td>3</td>\n",
       "      <td>Apple</td>\n",
       "      <td>1988</td>\n",
       "      <td>Jun</td>\n",
       "      <td>Styleware</td>\n",
       "      <td>Computer software</td>\n",
       "      <td>-</td>\n",
       "      <td>-</td>\n",
       "      <td>-</td>\n",
       "      <td>-</td>\n",
       "    </tr>\n",
       "    <tr>\n",
       "      <th>3</th>\n",
       "      <td>4</td>\n",
       "      <td>Apple</td>\n",
       "      <td>1988</td>\n",
       "      <td>Jul</td>\n",
       "      <td>Nashoba Systems</td>\n",
       "      <td>Computer software</td>\n",
       "      <td>-</td>\n",
       "      <td>-</td>\n",
       "      <td>-</td>\n",
       "      <td>-</td>\n",
       "    </tr>\n",
       "    <tr>\n",
       "      <th>4</th>\n",
       "      <td>5</td>\n",
       "      <td>Apple</td>\n",
       "      <td>1989</td>\n",
       "      <td>Jan</td>\n",
       "      <td>Coral Software</td>\n",
       "      <td>Computer software</td>\n",
       "      <td>-</td>\n",
       "      <td>-</td>\n",
       "      <td>-</td>\n",
       "      <td>-</td>\n",
       "    </tr>\n",
       "    <tr>\n",
       "      <th>...</th>\n",
       "      <td>...</td>\n",
       "      <td>...</td>\n",
       "      <td>...</td>\n",
       "      <td>...</td>\n",
       "      <td>...</td>\n",
       "      <td>...</td>\n",
       "      <td>...</td>\n",
       "      <td>...</td>\n",
       "      <td>...</td>\n",
       "      <td>...</td>\n",
       "    </tr>\n",
       "    <tr>\n",
       "      <th>1450</th>\n",
       "      <td>1451</td>\n",
       "      <td>Citrix</td>\n",
       "      <td>2015</td>\n",
       "      <td>Apr</td>\n",
       "      <td>Grasshopper</td>\n",
       "      <td>Telephone services</td>\n",
       "      <td>United States</td>\n",
       "      <td>-</td>\n",
       "      <td>-</td>\n",
       "      <td>GoToMeeting, GoToTraining, GoToWebinar, ShareF...</td>\n",
       "    </tr>\n",
       "    <tr>\n",
       "      <th>1451</th>\n",
       "      <td>1452</td>\n",
       "      <td>Citrix</td>\n",
       "      <td>2016</td>\n",
       "      <td>Sep</td>\n",
       "      <td>Norskale</td>\n",
       "      <td>UEM and application performance optimization</td>\n",
       "      <td>France</td>\n",
       "      <td>-</td>\n",
       "      <td>-</td>\n",
       "      <td>XenApp, XenDesktop</td>\n",
       "    </tr>\n",
       "    <tr>\n",
       "      <th>1452</th>\n",
       "      <td>1453</td>\n",
       "      <td>Citrix</td>\n",
       "      <td>2017</td>\n",
       "      <td>Jan</td>\n",
       "      <td>Unidesk</td>\n",
       "      <td>-</td>\n",
       "      <td>United States</td>\n",
       "      <td>-</td>\n",
       "      <td>-</td>\n",
       "      <td>XenApp, XenDesktop</td>\n",
       "    </tr>\n",
       "    <tr>\n",
       "      <th>1453</th>\n",
       "      <td>1454</td>\n",
       "      <td>Citrix</td>\n",
       "      <td>2018</td>\n",
       "      <td>Feb</td>\n",
       "      <td>Cedexis</td>\n",
       "      <td>Intelligent traffic management</td>\n",
       "      <td>France</td>\n",
       "      <td>-</td>\n",
       "      <td>-</td>\n",
       "      <td>Citrix ITM</td>\n",
       "    </tr>\n",
       "    <tr>\n",
       "      <th>1454</th>\n",
       "      <td>1455</td>\n",
       "      <td>Citrix</td>\n",
       "      <td>2021</td>\n",
       "      <td>Mar</td>\n",
       "      <td>Wrike</td>\n",
       "      <td>Project management</td>\n",
       "      <td>United States</td>\n",
       "      <td>-</td>\n",
       "      <td>-</td>\n",
       "      <td>Citrix Workspace</td>\n",
       "    </tr>\n",
       "  </tbody>\n",
       "</table>\n",
       "<p>1455 rows × 10 columns</p>\n",
       "</div>"
      ],
      "text/plain": [
       "        ID Parent Company Acquisition Year Acquisition Month  \\\n",
       "0        1          Apple             1988               Mar   \n",
       "1        2          Apple             1988               Jun   \n",
       "2        3          Apple             1988               Jun   \n",
       "3        4          Apple             1988               Jul   \n",
       "4        5          Apple             1989               Jan   \n",
       "...    ...            ...              ...               ...   \n",
       "1450  1451         Citrix             2015               Apr   \n",
       "1451  1452         Citrix             2016               Sep   \n",
       "1452  1453         Citrix             2017               Jan   \n",
       "1453  1454         Citrix             2018               Feb   \n",
       "1454  1455         Citrix             2021               Mar   \n",
       "\n",
       "           Acquired Company                                      Business  \\\n",
       "0       Network Innovations                                      Software   \n",
       "1     Orion Network Systems                             Computer Software   \n",
       "2                 Styleware                             Computer software   \n",
       "3           Nashoba Systems                             Computer software   \n",
       "4            Coral Software                             Computer software   \n",
       "...                     ...                                           ...   \n",
       "1450            Grasshopper                            Telephone services   \n",
       "1451               Norskale  UEM and application performance optimization   \n",
       "1452                Unidesk                                             -   \n",
       "1453                Cedexis                Intelligent traffic management   \n",
       "1454                  Wrike                            Project management   \n",
       "\n",
       "            Country Acquisition Price Category  \\\n",
       "0                 -                 -        -   \n",
       "1                 -                 -        -   \n",
       "2                 -                 -        -   \n",
       "3                 -                 -        -   \n",
       "4                 -                 -        -   \n",
       "...             ...               ...      ...   \n",
       "1450  United States                 -        -   \n",
       "1451         France                 -        -   \n",
       "1452  United States                 -        -   \n",
       "1453         France                 -        -   \n",
       "1454  United States                 -        -   \n",
       "\n",
       "                                       Derived Products  \n",
       "0                                                     -  \n",
       "1                                                     -  \n",
       "2                                                     -  \n",
       "3                                                     -  \n",
       "4                                                     -  \n",
       "...                                                 ...  \n",
       "1450  GoToMeeting, GoToTraining, GoToWebinar, ShareF...  \n",
       "1451                                 XenApp, XenDesktop  \n",
       "1452                                 XenApp, XenDesktop  \n",
       "1453                                         Citrix ITM  \n",
       "1454                                   Citrix Workspace  \n",
       "\n",
       "[1455 rows x 10 columns]"
      ]
     },
     "execution_count": 3,
     "metadata": {},
     "output_type": "execute_result"
    }
   ],
   "source": [
    "cy_aq"
   ]
  },
  {
   "cell_type": "markdown",
   "id": "502131f2",
   "metadata": {},
   "source": [
    "### How many companies did each parent company acquire?"
   ]
  },
  {
   "cell_type": "code",
   "execution_count": 21,
   "id": "05d985fe",
   "metadata": {},
   "outputs": [
    {
     "data": {
      "text/plain": [
       "Parent Company\n",
       "Microsoft     258\n",
       "Google        244\n",
       "Ibm           182\n",
       "Hp            129\n",
       "Apple         123\n",
       "Amazon        108\n",
       "Facebook       93\n",
       "Twitter        65\n",
       "Ebay           63\n",
       "Adobe          52\n",
       "Citrix         52\n",
       "Redhat         35\n",
       "Blackberry     32\n",
       "Disney         19\n",
       "Name: Acquired Company, dtype: int64"
      ]
     },
     "execution_count": 21,
     "metadata": {},
     "output_type": "execute_result"
    }
   ],
   "source": [
    "cy_aq.groupby([\"Parent Company\"])['Acquired Company'].count().sort_values(ascending=False)"
   ]
  },
  {
   "cell_type": "code",
   "execution_count": 22,
   "id": "a748d975",
   "metadata": {},
   "outputs": [],
   "source": [
    "total_aq = cy_aq.groupby([\"Parent Company\"])['Acquired Company'].count().sort_values(ascending=False)"
   ]
  },
  {
   "cell_type": "code",
   "execution_count": 25,
   "id": "0e29c540",
   "metadata": {},
   "outputs": [],
   "source": [
    "import numpy as np\n",
    "import hvplot.pandas  # noqa\n",
    "import hvplot.dask  # noqa\n",
    "import panel as pn"
   ]
  },
  {
   "cell_type": "code",
   "execution_count": 45,
   "id": "30f5ac70",
   "metadata": {
    "scrolled": true
   },
   "outputs": [
    {
     "data": {},
     "metadata": {},
     "output_type": "display_data"
    },
    {
     "data": {
      "application/vnd.holoviews_exec.v0+json": "",
      "text/html": [
       "<div id='4199'>\n",
       "\n",
       "\n",
       "\n",
       "\n",
       "\n",
       "  <div class=\"bk-root\" id=\"68453cf5-d88e-480b-ae87-ef4196944aea\" data-root-id=\"4199\"></div>\n",
       "</div>\n",
       "<script type=\"application/javascript\">(function(root) {\n",
       "  function embed_document(root) {\n",
       "    var docs_json = {\"c13eba12-a526-4632-ac96-9f62158d373a\":{\"defs\":[{\"extends\":null,\"module\":null,\"name\":\"ReactiveHTML1\",\"overrides\":[],\"properties\":[]},{\"extends\":null,\"module\":null,\"name\":\"FlexBox1\",\"overrides\":[],\"properties\":[{\"default\":\"flex-start\",\"kind\":null,\"name\":\"align_content\"},{\"default\":\"flex-start\",\"kind\":null,\"name\":\"align_items\"},{\"default\":\"row\",\"kind\":null,\"name\":\"flex_direction\"},{\"default\":\"wrap\",\"kind\":null,\"name\":\"flex_wrap\"},{\"default\":\"flex-start\",\"kind\":null,\"name\":\"justify_content\"}]},{\"extends\":null,\"module\":null,\"name\":\"GridStack1\",\"overrides\":[],\"properties\":[{\"default\":\"warn\",\"kind\":null,\"name\":\"mode\"},{\"default\":null,\"kind\":null,\"name\":\"ncols\"},{\"default\":null,\"kind\":null,\"name\":\"nrows\"},{\"default\":true,\"kind\":null,\"name\":\"allow_resize\"},{\"default\":true,\"kind\":null,\"name\":\"allow_drag\"},{\"default\":[],\"kind\":null,\"name\":\"state\"}]},{\"extends\":null,\"module\":null,\"name\":\"click1\",\"overrides\":[],\"properties\":[{\"default\":\"\",\"kind\":null,\"name\":\"terminal_output\"},{\"default\":\"\",\"kind\":null,\"name\":\"debug_name\"},{\"default\":0,\"kind\":null,\"name\":\"clears\"}]},{\"extends\":null,\"module\":null,\"name\":\"TemplateActions1\",\"overrides\":[],\"properties\":[{\"default\":0,\"kind\":null,\"name\":\"open_modal\"},{\"default\":0,\"kind\":null,\"name\":\"close_modal\"}]},{\"extends\":null,\"module\":null,\"name\":\"MaterialTemplateActions1\",\"overrides\":[],\"properties\":[{\"default\":0,\"kind\":null,\"name\":\"open_modal\"},{\"default\":0,\"kind\":null,\"name\":\"close_modal\"}]}],\"roots\":{\"references\":[{\"attributes\":{},\"id\":\"4211\",\"type\":\"LinearScale\"},{\"attributes\":{},\"id\":\"4255\",\"type\":\"UnionRenderers\"},{\"attributes\":{\"coordinates\":null,\"group\":null,\"text\":\"No. of companies acquired by respective Parent Companies\",\"text_color\":\"black\",\"text_font_size\":\"12pt\"},\"id\":\"4205\",\"type\":\"Title\"},{\"attributes\":{},\"id\":\"4244\",\"type\":\"AllLabels\"},{\"attributes\":{},\"id\":\"4214\",\"type\":\"CategoricalTicker\"},{\"attributes\":{\"axis\":{\"id\":\"4213\"},\"coordinates\":null,\"grid_line_color\":null,\"group\":null,\"ticker\":null},\"id\":\"4215\",\"type\":\"Grid\"},{\"attributes\":{},\"id\":\"4221\",\"type\":\"PanTool\"},{\"attributes\":{\"bottom\":{\"value\":0},\"fill_alpha\":{\"value\":1.0},\"fill_color\":{\"value\":\"#30a2da\"},\"hatch_alpha\":{\"value\":1.0},\"hatch_color\":{\"value\":\"#30a2da\"},\"hatch_scale\":{\"value\":12.0},\"hatch_weight\":{\"value\":1.0},\"line_alpha\":{\"value\":1.0},\"line_cap\":{\"value\":\"butt\"},\"line_color\":{\"value\":\"black\"},\"line_dash\":{\"value\":[]},\"line_dash_offset\":{\"value\":0},\"line_join\":{\"value\":\"bevel\"},\"line_width\":{\"value\":1},\"top\":{\"field\":\"Acquired_Company\"},\"width\":{\"value\":0.8},\"x\":{\"field\":\"Parent_Company\"}},\"id\":\"4241\",\"type\":\"VBar\"},{\"attributes\":{\"axis_label\":\"Parent Company\",\"coordinates\":null,\"formatter\":{\"id\":\"4243\"},\"group\":null,\"major_label_policy\":{\"id\":\"4244\"},\"ticker\":{\"id\":\"4214\"}},\"id\":\"4213\",\"type\":\"CategoricalAxis\"},{\"attributes\":{\"axis\":{\"id\":\"4216\"},\"coordinates\":null,\"dimension\":1,\"grid_line_color\":null,\"group\":null,\"ticker\":null},\"id\":\"4219\",\"type\":\"Grid\"},{\"attributes\":{},\"id\":\"4234\",\"type\":\"Selection\"},{\"attributes\":{\"children\":[{\"id\":\"4200\"},{\"id\":\"4204\"},{\"id\":\"4268\"}],\"margin\":[0,0,0,0],\"name\":\"Row08767\",\"tags\":[\"embedded\"]},\"id\":\"4199\",\"type\":\"Row\"},{\"attributes\":{\"data\":{\"Acquired_Company\":[258,244,182,129,123,108,93,65,63,52,52,35,32,19],\"Parent_Company\":[\"Microsoft\",\"Google\",\"Ibm\",\"Hp\",\"Apple\",\"Amazon\",\"Facebook\",\"Twitter\",\"Ebay\",\"Adobe\",\"Citrix\",\"Redhat\",\"Blackberry\",\"Disney\"]},\"selected\":{\"id\":\"4234\"},\"selection_policy\":{\"id\":\"4255\"}},\"id\":\"4233\",\"type\":\"ColumnDataSource\"},{\"attributes\":{},\"id\":\"4246\",\"type\":\"BasicTickFormatter\"},{\"attributes\":{\"axis_label\":\"\",\"coordinates\":null,\"formatter\":{\"id\":\"4246\"},\"group\":null,\"major_label_policy\":{\"id\":\"4247\"},\"ticker\":{\"id\":\"4217\"}},\"id\":\"4216\",\"type\":\"LinearAxis\"},{\"attributes\":{},\"id\":\"4217\",\"type\":\"BasicTicker\"},{\"attributes\":{},\"id\":\"4222\",\"type\":\"WheelZoomTool\"},{\"attributes\":{\"fill_color\":{\"value\":\"#30a2da\"},\"hatch_color\":{\"value\":\"#30a2da\"},\"top\":{\"field\":\"Acquired_Company\"},\"width\":{\"value\":0.8},\"x\":{\"field\":\"Parent_Company\"}},\"id\":\"4236\",\"type\":\"VBar\"},{\"attributes\":{\"fill_alpha\":{\"value\":0.1},\"fill_color\":{\"value\":\"#30a2da\"},\"hatch_alpha\":{\"value\":0.1},\"hatch_color\":{\"value\":\"#30a2da\"},\"line_alpha\":{\"value\":0.1},\"top\":{\"field\":\"Acquired_Company\"},\"width\":{\"value\":0.8},\"x\":{\"field\":\"Parent_Company\"}},\"id\":\"4237\",\"type\":\"VBar\"},{\"attributes\":{},\"id\":\"4220\",\"type\":\"SaveTool\"},{\"attributes\":{},\"id\":\"4243\",\"type\":\"CategoricalTickFormatter\"},{\"attributes\":{\"overlay\":{\"id\":\"4225\"}},\"id\":\"4223\",\"type\":\"BoxZoomTool\"},{\"attributes\":{},\"id\":\"4224\",\"type\":\"ResetTool\"},{\"attributes\":{\"source\":{\"id\":\"4233\"}},\"id\":\"4240\",\"type\":\"CDSView\"},{\"attributes\":{\"bottom_units\":\"screen\",\"coordinates\":null,\"fill_alpha\":0.5,\"fill_color\":\"lightgrey\",\"group\":null,\"left_units\":\"screen\",\"level\":\"overlay\",\"line_alpha\":1.0,\"line_color\":\"black\",\"line_dash\":[4,4],\"line_width\":2,\"right_units\":\"screen\",\"syncable\":false,\"top_units\":\"screen\"},\"id\":\"4225\",\"type\":\"BoxAnnotation\"},{\"attributes\":{\"tools\":[{\"id\":\"4203\"},{\"id\":\"4220\"},{\"id\":\"4221\"},{\"id\":\"4222\"},{\"id\":\"4223\"},{\"id\":\"4224\"}]},\"id\":\"4226\",\"type\":\"Toolbar\"},{\"attributes\":{\"factors\":[\"Microsoft\",\"Google\",\"Ibm\",\"Hp\",\"Apple\",\"Amazon\",\"Facebook\",\"Twitter\",\"Ebay\",\"Adobe\",\"Citrix\",\"Redhat\",\"Blackberry\",\"Disney\"],\"tags\":[[[\"Parent Company\",\"Parent Company\",null]]]},\"id\":\"4201\",\"type\":\"FactorRange\"},{\"attributes\":{},\"id\":\"4247\",\"type\":\"AllLabels\"},{\"attributes\":{\"margin\":[5,5,5,5],\"name\":\"HSpacer08772\",\"sizing_mode\":\"stretch_width\"},\"id\":\"4268\",\"type\":\"Spacer\"},{\"attributes\":{\"fill_alpha\":{\"value\":0.2},\"fill_color\":{\"value\":\"#30a2da\"},\"hatch_alpha\":{\"value\":0.2},\"hatch_color\":{\"value\":\"#30a2da\"},\"line_alpha\":{\"value\":0.2},\"top\":{\"field\":\"Acquired_Company\"},\"width\":{\"value\":0.8},\"x\":{\"field\":\"Parent_Company\"}},\"id\":\"4238\",\"type\":\"VBar\"},{\"attributes\":{\"coordinates\":null,\"data_source\":{\"id\":\"4233\"},\"glyph\":{\"id\":\"4236\"},\"group\":null,\"hover_glyph\":null,\"muted_glyph\":{\"id\":\"4238\"},\"nonselection_glyph\":{\"id\":\"4237\"},\"selection_glyph\":{\"id\":\"4241\"},\"view\":{\"id\":\"4240\"}},\"id\":\"4239\",\"type\":\"GlyphRenderer\"},{\"attributes\":{\"callback\":null,\"renderers\":[{\"id\":\"4239\"}],\"tags\":[\"hv_created\"],\"tooltips\":[[\"Parent Company\",\"@{Parent_Company}\"],[\"Acquired Company\",\"@{Acquired_Company}\"]]},\"id\":\"4203\",\"type\":\"HoverTool\"},{\"attributes\":{},\"id\":\"4209\",\"type\":\"CategoricalScale\"},{\"attributes\":{\"end\":281.9,\"reset_end\":281.9,\"reset_start\":0.0,\"tags\":[[[\"Acquired Company\",\"Acquired Company\",null]]]},\"id\":\"4202\",\"type\":\"Range1d\"},{\"attributes\":{\"margin\":[5,5,5,5],\"name\":\"HSpacer08771\",\"sizing_mode\":\"stretch_width\"},\"id\":\"4200\",\"type\":\"Spacer\"},{\"attributes\":{\"below\":[{\"id\":\"4213\"}],\"center\":[{\"id\":\"4215\"},{\"id\":\"4219\"}],\"height\":400,\"left\":[{\"id\":\"4216\"}],\"margin\":[5,5,5,5],\"min_border_bottom\":10,\"min_border_left\":10,\"min_border_right\":10,\"min_border_top\":10,\"renderers\":[{\"id\":\"4239\"}],\"sizing_mode\":\"fixed\",\"title\":{\"id\":\"4205\"},\"toolbar\":{\"id\":\"4226\"},\"width\":800,\"x_range\":{\"id\":\"4201\"},\"x_scale\":{\"id\":\"4209\"},\"y_range\":{\"id\":\"4202\"},\"y_scale\":{\"id\":\"4211\"}},\"id\":\"4204\",\"subtype\":\"Figure\",\"type\":\"Plot\"}],\"root_ids\":[\"4199\"]},\"title\":\"Bokeh Application\",\"version\":\"2.4.2\"}};\n",
       "    var render_items = [{\"docid\":\"c13eba12-a526-4632-ac96-9f62158d373a\",\"root_ids\":[\"4199\"],\"roots\":{\"4199\":\"68453cf5-d88e-480b-ae87-ef4196944aea\"}}];\n",
       "    root.Bokeh.embed.embed_items_notebook(docs_json, render_items);\n",
       "  }\n",
       "  if (root.Bokeh !== undefined && root.Bokeh.Panel !== undefined) {\n",
       "    embed_document(root);\n",
       "  } else {\n",
       "    var attempts = 0;\n",
       "    var timer = setInterval(function(root) {\n",
       "      if (root.Bokeh !== undefined && root.Bokeh.Panel !== undefined) {\n",
       "        clearInterval(timer);\n",
       "        embed_document(root);\n",
       "      } else if (document.readyState == \"complete\") {\n",
       "        attempts++;\n",
       "        if (attempts > 200) {\n",
       "          clearInterval(timer);\n",
       "          console.log(\"Bokeh: ERROR: Unable to run BokehJS code because BokehJS library is missing\");\n",
       "        }\n",
       "      }\n",
       "    }, 25, root)\n",
       "  }\n",
       "})(window);</script>"
      ],
      "text/plain": [
       ":Bars   [Parent Company]   (Acquired Company)"
      ]
     },
     "execution_count": 45,
     "metadata": {
      "application/vnd.holoviews_exec.v0+json": {
       "id": "4199"
      }
     },
     "output_type": "execute_result"
    }
   ],
   "source": [
    "total_aq.hvplot.bar(x=\"Parent Company\", height=400, width=800, title=\"No. of companies acquired by respective Parent Companies\")"
   ]
  },
  {
   "cell_type": "markdown",
   "id": "73022c19",
   "metadata": {},
   "source": [
    "### What are the 5 top business types acquired by parent companies?\n",
    "\n",
    "#### (Note that \"Software\", \"Computer software\" and \"Internet software\" should be aggregated as a single category)"
   ]
  },
  {
   "cell_type": "code",
   "execution_count": 62,
   "id": "ba3d0169",
   "metadata": {},
   "outputs": [
    {
     "data": {
      "text/plain": [
       "Business\n",
       "Software                             52\n",
       "Computer software                    37\n",
       "Video games                          18\n",
       "Information technology               15\n",
       "Internet software                    12\n",
       "Classified advertising                8\n",
       "Electronic commerce                   7\n",
       "Information technology consulting     7\n",
       "Artificial intelligence               6\n",
       "Machine learning                      6\n",
       "Name: Parent Company, dtype: int64"
      ]
     },
     "execution_count": 62,
     "metadata": {},
     "output_type": "execute_result"
    }
   ],
   "source": [
    "cy_aq.groupby([\"Business\"])['Parent Company'].count().sort_values(ascending=False)[1:11]"
   ]
  },
  {
   "cell_type": "code",
   "execution_count": 74,
   "id": "e9455914",
   "metadata": {},
   "outputs": [],
   "source": [
    "top5_business = cy_aq.groupby([\"Business\"])['Parent Company'].count().sort_values(ascending=False)[1:8]"
   ]
  },
  {
   "cell_type": "code",
   "execution_count": 75,
   "id": "adea391c",
   "metadata": {},
   "outputs": [
    {
     "data": {
      "text/plain": [
       "Business\n",
       "Software                  52\n",
       "Computer software         37\n",
       "Video games               18\n",
       "Information technology    15\n",
       "Internet software         12\n",
       "Classified advertising     8\n",
       "Electronic commerce        7\n",
       "Name: Parent Company, dtype: int64"
      ]
     },
     "execution_count": 75,
     "metadata": {},
     "output_type": "execute_result"
    }
   ],
   "source": [
    "top5_business"
   ]
  },
  {
   "cell_type": "code",
   "execution_count": 76,
   "id": "4af560c8",
   "metadata": {},
   "outputs": [],
   "source": [
    "column_names = ['Software', 'Computer software', 'Internet software']"
   ]
  },
  {
   "cell_type": "code",
   "execution_count": 77,
   "id": "f23a3eb5",
   "metadata": {},
   "outputs": [],
   "source": [
    "top5_business['Software Applications']= top5_business[column_names].sum()"
   ]
  },
  {
   "cell_type": "code",
   "execution_count": 78,
   "id": "74028bb6",
   "metadata": {},
   "outputs": [],
   "source": [
    "top5_business = top5_business.drop(['Software','Computer software','Internet software'])"
   ]
  },
  {
   "cell_type": "code",
   "execution_count": 82,
   "id": "3d60c16a",
   "metadata": {},
   "outputs": [
    {
     "data": {
      "text/plain": [
       "Business\n",
       "Software Applications     101\n",
       "Video games                18\n",
       "Information technology     15\n",
       "Classified advertising      8\n",
       "Electronic commerce         7\n",
       "Name: Parent Company, dtype: int64"
      ]
     },
     "execution_count": 82,
     "metadata": {},
     "output_type": "execute_result"
    }
   ],
   "source": [
    "top5_business = top5_business.sort_values(ascending=False)\n",
    "top5_business"
   ]
  },
  {
   "cell_type": "code",
   "execution_count": 85,
   "id": "2c82076b",
   "metadata": {},
   "outputs": [
    {
     "data": {},
     "metadata": {},
     "output_type": "display_data"
    },
    {
     "data": {
      "application/vnd.holoviews_exec.v0+json": "",
      "text/html": [
       "<div id='4683'>\n",
       "\n",
       "\n",
       "\n",
       "\n",
       "\n",
       "  <div class=\"bk-root\" id=\"48bc2c39-6303-461e-abbb-d7930d793b77\" data-root-id=\"4683\"></div>\n",
       "</div>\n",
       "<script type=\"application/javascript\">(function(root) {\n",
       "  function embed_document(root) {\n",
       "    var docs_json = {\"94961754-eaae-408a-920d-47cb30984e93\":{\"defs\":[{\"extends\":null,\"module\":null,\"name\":\"ReactiveHTML1\",\"overrides\":[],\"properties\":[]},{\"extends\":null,\"module\":null,\"name\":\"FlexBox1\",\"overrides\":[],\"properties\":[{\"default\":\"flex-start\",\"kind\":null,\"name\":\"align_content\"},{\"default\":\"flex-start\",\"kind\":null,\"name\":\"align_items\"},{\"default\":\"row\",\"kind\":null,\"name\":\"flex_direction\"},{\"default\":\"wrap\",\"kind\":null,\"name\":\"flex_wrap\"},{\"default\":\"flex-start\",\"kind\":null,\"name\":\"justify_content\"}]},{\"extends\":null,\"module\":null,\"name\":\"GridStack1\",\"overrides\":[],\"properties\":[{\"default\":\"warn\",\"kind\":null,\"name\":\"mode\"},{\"default\":null,\"kind\":null,\"name\":\"ncols\"},{\"default\":null,\"kind\":null,\"name\":\"nrows\"},{\"default\":true,\"kind\":null,\"name\":\"allow_resize\"},{\"default\":true,\"kind\":null,\"name\":\"allow_drag\"},{\"default\":[],\"kind\":null,\"name\":\"state\"}]},{\"extends\":null,\"module\":null,\"name\":\"click1\",\"overrides\":[],\"properties\":[{\"default\":\"\",\"kind\":null,\"name\":\"terminal_output\"},{\"default\":\"\",\"kind\":null,\"name\":\"debug_name\"},{\"default\":0,\"kind\":null,\"name\":\"clears\"}]},{\"extends\":null,\"module\":null,\"name\":\"TemplateActions1\",\"overrides\":[],\"properties\":[{\"default\":0,\"kind\":null,\"name\":\"open_modal\"},{\"default\":0,\"kind\":null,\"name\":\"close_modal\"}]},{\"extends\":null,\"module\":null,\"name\":\"MaterialTemplateActions1\",\"overrides\":[],\"properties\":[{\"default\":0,\"kind\":null,\"name\":\"open_modal\"},{\"default\":0,\"kind\":null,\"name\":\"close_modal\"}]}],\"roots\":{\"references\":[{\"attributes\":{},\"id\":\"4706\",\"type\":\"WheelZoomTool\"},{\"attributes\":{},\"id\":\"4705\",\"type\":\"PanTool\"},{\"attributes\":{},\"id\":\"4731\",\"type\":\"AllLabels\"},{\"attributes\":{\"axis_label\":\"\",\"coordinates\":null,\"formatter\":{\"id\":\"4730\"},\"group\":null,\"major_label_policy\":{\"id\":\"4731\"},\"ticker\":{\"id\":\"4701\"}},\"id\":\"4700\",\"type\":\"LinearAxis\"},{\"attributes\":{\"margin\":[5,5,5,5],\"name\":\"HSpacer09367\",\"sizing_mode\":\"stretch_width\"},\"id\":\"4684\",\"type\":\"Spacer\"},{\"attributes\":{},\"id\":\"4704\",\"type\":\"SaveTool\"},{\"attributes\":{},\"id\":\"4728\",\"type\":\"AllLabels\"},{\"attributes\":{},\"id\":\"4701\",\"type\":\"BasicTicker\"},{\"attributes\":{\"fill_color\":{\"value\":\"#30a2da\"},\"hatch_color\":{\"value\":\"#30a2da\"},\"top\":{\"field\":\"Parent_Company\"},\"width\":{\"value\":0.8},\"x\":{\"field\":\"Business\"}},\"id\":\"4720\",\"type\":\"VBar\"},{\"attributes\":{\"fill_alpha\":{\"value\":0.1},\"fill_color\":{\"value\":\"#30a2da\"},\"hatch_alpha\":{\"value\":0.1},\"hatch_color\":{\"value\":\"#30a2da\"},\"line_alpha\":{\"value\":0.1},\"top\":{\"field\":\"Parent_Company\"},\"width\":{\"value\":0.8},\"x\":{\"field\":\"Business\"}},\"id\":\"4721\",\"type\":\"VBar\"},{\"attributes\":{\"children\":[{\"id\":\"4684\"},{\"id\":\"4688\"},{\"id\":\"4752\"}],\"margin\":[0,0,0,0],\"name\":\"Row09363\",\"tags\":[\"embedded\"]},\"id\":\"4683\",\"type\":\"Row\"},{\"attributes\":{\"overlay\":{\"id\":\"4709\"}},\"id\":\"4707\",\"type\":\"BoxZoomTool\"},{\"attributes\":{},\"id\":\"4708\",\"type\":\"ResetTool\"},{\"attributes\":{\"source\":{\"id\":\"4717\"}},\"id\":\"4724\",\"type\":\"CDSView\"},{\"attributes\":{},\"id\":\"4730\",\"type\":\"BasicTickFormatter\"},{\"attributes\":{\"bottom_units\":\"screen\",\"coordinates\":null,\"fill_alpha\":0.5,\"fill_color\":\"lightgrey\",\"group\":null,\"left_units\":\"screen\",\"level\":\"overlay\",\"line_alpha\":1.0,\"line_color\":\"black\",\"line_dash\":[4,4],\"line_width\":2,\"right_units\":\"screen\",\"syncable\":false,\"top_units\":\"screen\"},\"id\":\"4709\",\"type\":\"BoxAnnotation\"},{\"attributes\":{\"fill_alpha\":{\"value\":0.2},\"fill_color\":{\"value\":\"#30a2da\"},\"hatch_alpha\":{\"value\":0.2},\"hatch_color\":{\"value\":\"#30a2da\"},\"line_alpha\":{\"value\":0.2},\"top\":{\"field\":\"Parent_Company\"},\"width\":{\"value\":0.8},\"x\":{\"field\":\"Business\"}},\"id\":\"4722\",\"type\":\"VBar\"},{\"attributes\":{\"coordinates\":null,\"data_source\":{\"id\":\"4717\"},\"glyph\":{\"id\":\"4720\"},\"group\":null,\"hover_glyph\":null,\"muted_glyph\":{\"id\":\"4722\"},\"nonselection_glyph\":{\"id\":\"4721\"},\"selection_glyph\":{\"id\":\"4725\"},\"view\":{\"id\":\"4724\"}},\"id\":\"4723\",\"type\":\"GlyphRenderer\"},{\"attributes\":{\"bottom\":{\"value\":0},\"fill_alpha\":{\"value\":1.0},\"fill_color\":{\"value\":\"#30a2da\"},\"hatch_alpha\":{\"value\":1.0},\"hatch_color\":{\"value\":\"#30a2da\"},\"hatch_scale\":{\"value\":12.0},\"hatch_weight\":{\"value\":1.0},\"line_alpha\":{\"value\":1.0},\"line_cap\":{\"value\":\"butt\"},\"line_color\":{\"value\":\"black\"},\"line_dash\":{\"value\":[]},\"line_dash_offset\":{\"value\":0},\"line_join\":{\"value\":\"bevel\"},\"line_width\":{\"value\":1},\"top\":{\"field\":\"Parent_Company\"},\"width\":{\"value\":0.8},\"x\":{\"field\":\"Business\"}},\"id\":\"4725\",\"type\":\"VBar\"},{\"attributes\":{\"factors\":[\"Software Applications\",\"Video games\",\"Information technology\",\"Classified advertising\",\"Electronic commerce\"],\"tags\":[[[\"Business\",\"Business\",null]]]},\"id\":\"4685\",\"type\":\"FactorRange\"},{\"attributes\":{\"callback\":null,\"renderers\":[{\"id\":\"4723\"}],\"tags\":[\"hv_created\"],\"tooltips\":[[\"Business\",\"@{Business}\"],[\"Parent Company\",\"@{Parent_Company}\"]]},\"id\":\"4687\",\"type\":\"HoverTool\"},{\"attributes\":{},\"id\":\"4727\",\"type\":\"CategoricalTickFormatter\"},{\"attributes\":{\"below\":[{\"id\":\"4697\"}],\"center\":[{\"id\":\"4699\"},{\"id\":\"4703\"}],\"height\":400,\"left\":[{\"id\":\"4700\"}],\"margin\":[5,5,5,5],\"min_border_bottom\":10,\"min_border_left\":10,\"min_border_right\":10,\"min_border_top\":10,\"renderers\":[{\"id\":\"4723\"}],\"sizing_mode\":\"fixed\",\"title\":{\"id\":\"4689\"},\"toolbar\":{\"id\":\"4710\"},\"width\":800,\"x_range\":{\"id\":\"4685\"},\"x_scale\":{\"id\":\"4693\"},\"y_range\":{\"id\":\"4686\"},\"y_scale\":{\"id\":\"4695\"}},\"id\":\"4688\",\"subtype\":\"Figure\",\"type\":\"Plot\"},{\"attributes\":{\"margin\":[5,5,5,5],\"name\":\"HSpacer09368\",\"sizing_mode\":\"stretch_width\"},\"id\":\"4752\",\"type\":\"Spacer\"},{\"attributes\":{},\"id\":\"4698\",\"type\":\"CategoricalTicker\"},{\"attributes\":{},\"id\":\"4693\",\"type\":\"CategoricalScale\"},{\"attributes\":{\"end\":110.4,\"reset_end\":110.4,\"reset_start\":0.0,\"tags\":[[[\"Parent Company\",\"Parent Company\",null]]]},\"id\":\"4686\",\"type\":\"Range1d\"},{\"attributes\":{\"data\":{\"Business\":[\"Software Applications\",\"Video games\",\"Information technology\",\"Classified advertising\",\"Electronic commerce\"],\"Parent_Company\":[101,18,15,8,7]},\"selected\":{\"id\":\"4718\"},\"selection_policy\":{\"id\":\"4739\"}},\"id\":\"4717\",\"type\":\"ColumnDataSource\"},{\"attributes\":{},\"id\":\"4739\",\"type\":\"UnionRenderers\"},{\"attributes\":{\"tools\":[{\"id\":\"4687\"},{\"id\":\"4704\"},{\"id\":\"4705\"},{\"id\":\"4706\"},{\"id\":\"4707\"},{\"id\":\"4708\"}]},\"id\":\"4710\",\"type\":\"Toolbar\"},{\"attributes\":{\"axis\":{\"id\":\"4697\"},\"coordinates\":null,\"grid_line_color\":null,\"group\":null,\"ticker\":null},\"id\":\"4699\",\"type\":\"Grid\"},{\"attributes\":{\"coordinates\":null,\"group\":null,\"text\":\"Top 5 business types acquired by respective Parent Companies\",\"text_color\":\"black\",\"text_font_size\":\"12pt\"},\"id\":\"4689\",\"type\":\"Title\"},{\"attributes\":{},\"id\":\"4695\",\"type\":\"LinearScale\"},{\"attributes\":{},\"id\":\"4718\",\"type\":\"Selection\"},{\"attributes\":{\"axis_label\":\"Business\",\"coordinates\":null,\"formatter\":{\"id\":\"4727\"},\"group\":null,\"major_label_policy\":{\"id\":\"4728\"},\"ticker\":{\"id\":\"4698\"}},\"id\":\"4697\",\"type\":\"CategoricalAxis\"},{\"attributes\":{\"axis\":{\"id\":\"4700\"},\"coordinates\":null,\"dimension\":1,\"grid_line_color\":null,\"group\":null,\"ticker\":null},\"id\":\"4703\",\"type\":\"Grid\"}],\"root_ids\":[\"4683\"]},\"title\":\"Bokeh Application\",\"version\":\"2.4.2\"}};\n",
       "    var render_items = [{\"docid\":\"94961754-eaae-408a-920d-47cb30984e93\",\"root_ids\":[\"4683\"],\"roots\":{\"4683\":\"48bc2c39-6303-461e-abbb-d7930d793b77\"}}];\n",
       "    root.Bokeh.embed.embed_items_notebook(docs_json, render_items);\n",
       "  }\n",
       "  if (root.Bokeh !== undefined && root.Bokeh.Panel !== undefined) {\n",
       "    embed_document(root);\n",
       "  } else {\n",
       "    var attempts = 0;\n",
       "    var timer = setInterval(function(root) {\n",
       "      if (root.Bokeh !== undefined && root.Bokeh.Panel !== undefined) {\n",
       "        clearInterval(timer);\n",
       "        embed_document(root);\n",
       "      } else if (document.readyState == \"complete\") {\n",
       "        attempts++;\n",
       "        if (attempts > 200) {\n",
       "          clearInterval(timer);\n",
       "          console.log(\"Bokeh: ERROR: Unable to run BokehJS code because BokehJS library is missing\");\n",
       "        }\n",
       "      }\n",
       "    }, 25, root)\n",
       "  }\n",
       "})(window);</script>"
      ],
      "text/plain": [
       ":Bars   [Business]   (Parent Company)"
      ]
     },
     "execution_count": 85,
     "metadata": {
      "application/vnd.holoviews_exec.v0+json": {
       "id": "4683"
      }
     },
     "output_type": "execute_result"
    }
   ],
   "source": [
    "top5_business.hvplot.bar(x=\"Business\", height=400, width=800, \n",
    "                         title=\"Top 5 business types acquired by respective Parent Companies\")"
   ]
  }
 ],
 "metadata": {
  "kernelspec": {
   "display_name": "Python 3",
   "language": "python",
   "name": "python3"
  },
  "language_info": {
   "codemirror_mode": {
    "name": "ipython",
    "version": 3
   },
   "file_extension": ".py",
   "mimetype": "text/x-python",
   "name": "python",
   "nbconvert_exporter": "python",
   "pygments_lexer": "ipython3",
   "version": "3.8.8"
  }
 },
 "nbformat": 4,
 "nbformat_minor": 5
}
